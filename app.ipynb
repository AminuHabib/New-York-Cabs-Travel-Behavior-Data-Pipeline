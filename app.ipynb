{
  "nbformat": 4,
  "nbformat_minor": 0,
  "metadata": {
    "colab": {
      "name": "app.ipynb",
      "provenance": [],
      "collapsed_sections": [],
      "authorship_tag": "ABX9TyMuRrHbe3hKf6mADL7upMWT",
      "include_colab_link": true
    },
    "kernelspec": {
      "name": "python3",
      "display_name": "Python 3"
    },
    "language_info": {
      "name": "python"
    }
  },
  "cells": [
    {
      "cell_type": "markdown",
      "metadata": {
        "id": "view-in-github",
        "colab_type": "text"
      },
      "source": [
        "<a href=\"https://colab.research.google.com/github/AminuHabib/New-York-Cabs-Travel-Behavior-Data-Pipeline/blob/main/app.ipynb\" target=\"_parent\"><img src=\"https://colab.research.google.com/assets/colab-badge.svg\" alt=\"Open In Colab\"/></a>"
      ]
    },
    {
      "cell_type": "markdown",
      "metadata": {
        "id": "8Ga4eiVGqGvZ"
      },
      "source": [
        "**Connecting Drive to Colab** \\\n",
        "Mounting Google Drive"
      ]
    },
    {
      "cell_type": "code",
      "metadata": {
        "colab": {
          "base_uri": "https://localhost:8080/"
        },
        "id": "iIerRTOQXwww",
        "outputId": "e2683bea-490f-4bcd-d601-99be9c4b5dfa"
      },
      "source": [
        "from google.colab import drive\n",
        "drive.mount('/content/drive')"
      ],
      "execution_count": 146,
      "outputs": [
        {
          "output_type": "stream",
          "text": [
            "Drive already mounted at /content/drive; to attempt to forcibly remount, call drive.mount(\"/content/drive\", force_remount=True).\n"
          ],
          "name": "stdout"
        }
      ]
    },
    {
      "cell_type": "markdown",
      "metadata": {
        "id": "MfKtt-qMuHPR"
      },
      "source": [
        "**Reading Data from Drive** \\\n",
        "Unzipping the data"
      ]
    },
    {
      "cell_type": "code",
      "metadata": {
        "colab": {
          "base_uri": "https://localhost:8080/"
        },
        "id": "i6ivuosZXwZn",
        "outputId": "da4460c1-bdf8-4233-8f22-b0e2aefd7d17"
      },
      "source": [
        "!unzip \"/content/drive/MyDrive/New-York-Data/train.zip\""
      ],
      "execution_count": 147,
      "outputs": [
        {
          "output_type": "stream",
          "text": [
            "Archive:  /content/drive/MyDrive/New-York-Data/train.zip\n",
            "replace train.csv? [y]es, [n]o, [A]ll, [N]one, [r]ename: n\n"
          ],
          "name": "stdout"
        }
      ]
    },
    {
      "cell_type": "markdown",
      "metadata": {
        "id": "OhLuv8N0ut_1"
      },
      "source": [
        "**Setting up PySpark in Colab** "
      ]
    },
    {
      "cell_type": "code",
      "metadata": {
        "id": "HAkoi0mzvGKB"
      },
      "source": [
        "!apt-get install openjdk-8-jdk-headless -qq > /dev/null"
      ],
      "execution_count": 148,
      "outputs": []
    },
    {
      "cell_type": "markdown",
      "metadata": {
        "id": "g8NipDJmvqk-"
      },
      "source": [
        "Installing Apache Spark 3.0.1 with Hadoop 2.7 from the link"
      ]
    },
    {
      "cell_type": "code",
      "metadata": {
        "id": "x-JoD2bZXwFS"
      },
      "source": [
        "!wget -q https://downloads.apache.org/spark/spark-3.1.1/spark-3.1.1-bin-hadoop2.7.tgz"
      ],
      "execution_count": 149,
      "outputs": []
    },
    {
      "cell_type": "markdown",
      "metadata": {
        "id": "pchTP4k9v5VC"
      },
      "source": [
        "To unzip that folder"
      ]
    },
    {
      "cell_type": "code",
      "metadata": {
        "id": "n_F4k6XEv4G5"
      },
      "source": [
        "!tar xf spark-3.1.1-bin-hadoop2.7.tgz"
      ],
      "execution_count": 150,
      "outputs": []
    },
    {
      "cell_type": "markdown",
      "metadata": {
        "id": "nZuHcegBwJBa"
      },
      "source": [
        "Install findspark library "
      ]
    },
    {
      "cell_type": "code",
      "metadata": {
        "id": "378qtTYaXv7S"
      },
      "source": [
        "!pip install -q findspark"
      ],
      "execution_count": 151,
      "outputs": []
    },
    {
      "cell_type": "markdown",
      "metadata": {
        "id": "nzEnqUazwwQ4"
      },
      "source": [
        "To set the environment path"
      ]
    },
    {
      "cell_type": "code",
      "metadata": {
        "id": "4OlJoAp8Xvw3"
      },
      "source": [
        "import os\n",
        "os.environ[\"JAVA_HOME\"] = \"/usr/lib/jvm/java-8-openjdk-amd64\"\n",
        "os.environ[\"SPARK_HOME\"] = \"/content/spark-3.1.1-bin-hadoop2.7\""
      ],
      "execution_count": 152,
      "outputs": []
    },
    {
      "cell_type": "markdown",
      "metadata": {
        "id": "BYSuWfa4xQuQ"
      },
      "source": [
        "To locate Spark in the system"
      ]
    },
    {
      "cell_type": "code",
      "metadata": {
        "id": "mgHv4sHLw4NI"
      },
      "source": [
        "import findspark\n",
        "findspark.init()"
      ],
      "execution_count": 153,
      "outputs": []
    },
    {
      "cell_type": "markdown",
      "metadata": {
        "id": "BlBZ3s5HxaQe"
      },
      "source": [
        "To know the location where Spark is installed"
      ]
    },
    {
      "cell_type": "code",
      "metadata": {
        "colab": {
          "base_uri": "https://localhost:8080/",
          "height": 35
        },
        "id": "F25wQQqoxXph",
        "outputId": "d3157d72-e999-428c-8b39-a20913553dde"
      },
      "source": [
        "findspark.find()"
      ],
      "execution_count": 154,
      "outputs": [
        {
          "output_type": "execute_result",
          "data": {
            "application/vnd.google.colaboratory.intrinsic+json": {
              "type": "string"
            },
            "text/plain": [
              "'/content/spark-3.1.1-bin-hadoop2.7'"
            ]
          },
          "metadata": {
            "tags": []
          },
          "execution_count": 154
        }
      ]
    },
    {
      "cell_type": "markdown",
      "metadata": {
        "id": "IxM-dR0ix4ya"
      },
      "source": [
        "To view the Spark UI"
      ]
    },
    {
      "cell_type": "code",
      "metadata": {
        "colab": {
          "base_uri": "https://localhost:8080/"
        },
        "id": "Ql86RDk5YMUe",
        "outputId": "843bf74d-fefb-4a93-fb4d-ff43fa9112ce"
      },
      "source": [
        "!wget https://bin.equinox.io/c/4VmDzA7iaHb/ngrok-stable-linux-amd64.zip\n",
        "!unzip ngrok-stable-linux-amd64.zip\n",
        "get_ipython().system_raw('./ngrok http 4050 &')\n",
        "!curl -s http://localhost:4040/api/tunnels"
      ],
      "execution_count": 155,
      "outputs": [
        {
          "output_type": "stream",
          "text": [
            "--2021-05-11 19:57:41--  https://bin.equinox.io/c/4VmDzA7iaHb/ngrok-stable-linux-amd64.zip\n",
            "Resolving bin.equinox.io (bin.equinox.io)... 52.204.190.140, 34.193.189.47, 34.233.212.111, ...\n",
            "Connecting to bin.equinox.io (bin.equinox.io)|52.204.190.140|:443... connected.\n",
            "HTTP request sent, awaiting response... 200 OK\n",
            "Length: 13832437 (13M) [application/octet-stream]\n",
            "Saving to: ‘ngrok-stable-linux-amd64.zip.1’\n",
            "\n",
            "ngrok-stable-linux- 100%[===================>]  13.19M  6.55MB/s    in 2.0s    \n",
            "\n",
            "2021-05-11 19:57:44 (6.55 MB/s) - ‘ngrok-stable-linux-amd64.zip.1’ saved [13832437/13832437]\n",
            "\n",
            "Archive:  ngrok-stable-linux-amd64.zip\n",
            "replace ngrok? [y]es, [n]o, [A]ll, [N]one, [r]ename: n\n",
            "{\"tunnels\":[{\"name\":\"command_line\",\"uri\":\"/api/tunnels/command_line\",\"public_url\":\"https://31c85f4c7aeb.ngrok.io\",\"proto\":\"https\",\"config\":{\"addr\":\"http://localhost:4050\",\"inspect\":true},\"metrics\":{\"conns\":{\"count\":0,\"gauge\":0,\"rate1\":0,\"rate5\":0,\"rate15\":0,\"p50\":0,\"p90\":0,\"p95\":0,\"p99\":0},\"http\":{\"count\":0,\"rate1\":0,\"rate5\":0,\"rate15\":0,\"p50\":0,\"p90\":0,\"p95\":0,\"p99\":0}}},{\"name\":\"command_line (http)\",\"uri\":\"/api/tunnels/command_line%20%28http%29\",\"public_url\":\"http://31c85f4c7aeb.ngrok.io\",\"proto\":\"http\",\"config\":{\"addr\":\"http://localhost:4050\",\"inspect\":true},\"metrics\":{\"conns\":{\"count\":0,\"gauge\":0,\"rate1\":0,\"rate5\":0,\"rate15\":0,\"p50\":0,\"p90\":0,\"p95\":0,\"p99\":0},\"http\":{\"count\":0,\"rate1\":0,\"rate5\":0,\"rate15\":0,\"p50\":0,\"p90\":0,\"p95\":0,\"p99\":0}}}],\"uri\":\"/api/tunnels\"}\n"
          ],
          "name": "stdout"
        }
      ]
    },
    {
      "cell_type": "markdown",
      "metadata": {
        "id": "8AuBDRJ8yI2K"
      },
      "source": [
        "Loading data into PySpark"
      ]
    },
    {
      "cell_type": "code",
      "metadata": {
        "id": "lmSt5HoFYOyS"
      },
      "source": [
        "data = spark.read.csv(\"train.csv\", header=True, inferSchema=True)"
      ],
      "execution_count": 156,
      "outputs": []
    },
    {
      "cell_type": "markdown",
      "metadata": {
        "id": "F25snDk6yJ26"
      },
      "source": [
        "Understanding the Data"
      ]
    },
    {
      "cell_type": "code",
      "metadata": {
        "colab": {
          "base_uri": "https://localhost:8080/"
        },
        "id": "OVIvJ-hvYQu5",
        "outputId": "e76488cf-7fb2-4420-c88b-10736dd06137"
      },
      "source": [
        "data.printSchema()"
      ],
      "execution_count": 157,
      "outputs": [
        {
          "output_type": "stream",
          "text": [
            "root\n",
            " |-- id: string (nullable = true)\n",
            " |-- vendor_id: integer (nullable = true)\n",
            " |-- pickup_datetime: string (nullable = true)\n",
            " |-- dropoff_datetime: string (nullable = true)\n",
            " |-- passenger_count: integer (nullable = true)\n",
            " |-- pickup_longitude: double (nullable = true)\n",
            " |-- pickup_latitude: double (nullable = true)\n",
            " |-- dropoff_longitude: double (nullable = true)\n",
            " |-- dropoff_latitude: double (nullable = true)\n",
            " |-- store_and_fwd_flag: string (nullable = true)\n",
            " |-- trip_duration: integer (nullable = true)\n",
            "\n"
          ],
          "name": "stdout"
        }
      ]
    },
    {
      "cell_type": "markdown",
      "metadata": {
        "id": "hdiA6O7iyVyk"
      },
      "source": [
        "To display the informations"
      ]
    },
    {
      "cell_type": "code",
      "metadata": {
        "colab": {
          "base_uri": "https://localhost:8080/"
        },
        "id": "hcGJWDPSYSNn",
        "outputId": "1197f71b-a25c-4123-d445-754e30aca824"
      },
      "source": [
        "data.show(5)"
      ],
      "execution_count": 158,
      "outputs": [
        {
          "output_type": "stream",
          "text": [
            "+---------+---------+-------------------+-------------------+---------------+------------------+------------------+------------------+------------------+------------------+-------------+\n",
            "|       id|vendor_id|    pickup_datetime|   dropoff_datetime|passenger_count|  pickup_longitude|   pickup_latitude| dropoff_longitude|  dropoff_latitude|store_and_fwd_flag|trip_duration|\n",
            "+---------+---------+-------------------+-------------------+---------------+------------------+------------------+------------------+------------------+------------------+-------------+\n",
            "|id2875421|        2|2016-03-14 17:24:55|2016-03-14 17:32:30|              1| -73.9821548461914| 40.76793670654297|-73.96463012695312|40.765602111816406|                 N|          455|\n",
            "|id2377394|        1|2016-06-12 00:43:35|2016-06-12 00:54:38|              1|-73.98041534423828|40.738563537597656|-73.99948120117188| 40.73115158081055|                 N|          663|\n",
            "|id3858529|        2|2016-01-19 11:35:24|2016-01-19 12:10:48|              1| -73.9790267944336|40.763938903808594|-74.00533294677734|40.710086822509766|                 N|         2124|\n",
            "|id3504673|        2|2016-04-06 19:32:31|2016-04-06 19:39:40|              1|-74.01004028320312|   40.719970703125|-74.01226806640625| 40.70671844482422|                 N|          429|\n",
            "|id2181028|        2|2016-03-26 13:30:55|2016-03-26 13:38:10|              1|-73.97305297851562|40.793209075927734| -73.9729232788086| 40.78252029418945|                 N|          435|\n",
            "+---------+---------+-------------------+-------------------+---------------+------------------+------------------+------------------+------------------+------------------+-------------+\n",
            "only showing top 5 rows\n",
            "\n"
          ],
          "name": "stdout"
        }
      ]
    },
    {
      "cell_type": "markdown",
      "metadata": {
        "id": "AZvnVCzSyzLG"
      },
      "source": [
        "To count the number of rows"
      ]
    },
    {
      "cell_type": "code",
      "metadata": {
        "colab": {
          "base_uri": "https://localhost:8080/"
        },
        "id": "rXQqvMz5YUdo",
        "outputId": "678ff3fa-20c0-4322-f8fc-8b936c80b5b4"
      },
      "source": [
        "data.count()"
      ],
      "execution_count": 159,
      "outputs": [
        {
          "output_type": "execute_result",
          "data": {
            "text/plain": [
              "1458644"
            ]
          },
          "metadata": {
            "tags": []
          },
          "execution_count": 159
        }
      ]
    },
    {
      "cell_type": "code",
      "metadata": {
        "colab": {
          "base_uri": "https://localhost:8080/"
        },
        "id": "h2l4bdWLYWVS",
        "outputId": "a3b17580-9f44-4f8f-b613-2f2811e7d941"
      },
      "source": [
        "data.select(\"pickup_datetime\",\"dropoff_datetime\").show(5)"
      ],
      "execution_count": 160,
      "outputs": [
        {
          "output_type": "stream",
          "text": [
            "+-------------------+-------------------+\n",
            "|    pickup_datetime|   dropoff_datetime|\n",
            "+-------------------+-------------------+\n",
            "|2016-03-14 17:24:55|2016-03-14 17:32:30|\n",
            "|2016-06-12 00:43:35|2016-06-12 00:54:38|\n",
            "|2016-01-19 11:35:24|2016-01-19 12:10:48|\n",
            "|2016-04-06 19:32:31|2016-04-06 19:39:40|\n",
            "|2016-03-26 13:30:55|2016-03-26 13:38:10|\n",
            "+-------------------+-------------------+\n",
            "only showing top 5 rows\n",
            "\n"
          ],
          "name": "stdout"
        }
      ]
    },
    {
      "cell_type": "code",
      "metadata": {
        "colab": {
          "base_uri": "https://localhost:8080/"
        },
        "id": "djT247itYYV0",
        "outputId": "915d112d-5d0c-4a3f-b65c-6bd5105e9090"
      },
      "source": [
        "data.describe().show()"
      ],
      "execution_count": 161,
      "outputs": [
        {
          "output_type": "stream",
          "text": [
            "+-------+---------+------------------+-------------------+-------------------+------------------+-------------------+------------------+-------------------+-------------------+------------------+-----------------+\n",
            "|summary|       id|         vendor_id|    pickup_datetime|   dropoff_datetime|   passenger_count|   pickup_longitude|   pickup_latitude|  dropoff_longitude|   dropoff_latitude|store_and_fwd_flag|    trip_duration|\n",
            "+-------+---------+------------------+-------------------+-------------------+------------------+-------------------+------------------+-------------------+-------------------+------------------+-----------------+\n",
            "|  count|  1458644|           1458644|            1458644|            1458644|           1458644|            1458644|           1458644|            1458644|            1458644|           1458644|          1458644|\n",
            "|   mean|     null|1.5349502688798637|               null|               null|1.6645295219395548| -73.97348630489282|40.750920908391734|  -73.9734159469458|   40.7517995149002|              null|959.4922729603659|\n",
            "| stddev|     null|0.4987771539074042|               null|               null| 1.314242167823114|0.07090185842270283| 0.032881186257633|0.07064326809720287|0.03589055560563683|              null|5237.431724497642|\n",
            "|    min|id0000001|                 1|2016-01-01 00:00:17|2016-01-01 00:03:31|                 0|-121.93334197998047| 34.35969543457031|-121.93330383300781|   32.1811408996582|                 N|                1|\n",
            "|    max|id4000000|                 2|2016-06-30 23:59:39|2016-07-01 23:02:03|                 9| -61.33552932739258| 51.88108444213867| -61.33552932739258|  43.92102813720703|                 Y|          3526282|\n",
            "+-------+---------+------------------+-------------------+-------------------+------------------+-------------------+------------------+-------------------+-------------------+------------------+-----------------+\n",
            "\n"
          ],
          "name": "stdout"
        }
      ]
    },
    {
      "cell_type": "code",
      "metadata": {
        "id": "hGGGXo8Tstt-"
      },
      "source": [
        "#from pyspark.sql.column import Column as col, _to_java_column, _to_seq"
      ],
      "execution_count": 162,
      "outputs": []
    },
    {
      "cell_type": "code",
      "metadata": {
        "id": "ActZCz51zws7"
      },
      "source": [
        "from pyspark.sql.types import *"
      ],
      "execution_count": 163,
      "outputs": []
    },
    {
      "cell_type": "markdown",
      "metadata": {
        "id": "2UD3xMRozXWI"
      },
      "source": [
        "Converting into timestamp"
      ]
    },
    {
      "cell_type": "code",
      "metadata": {
        "id": "OtS7oQ8G-Hg1"
      },
      "source": [
        "data_conv = data.withColumn(\"pickup_datetime\", data[\"pickup_datetime\"].cast(TimestampType()))"
      ],
      "execution_count": 164,
      "outputs": []
    },
    {
      "cell_type": "code",
      "metadata": {
        "id": "MFNKHUjt-x4Y"
      },
      "source": [
        "data_conv2 = data_conv.withColumn(\"dropoff_datetime\", data_conv[\"dropoff_datetime\"].cast(TimestampType()))"
      ],
      "execution_count": 165,
      "outputs": []
    },
    {
      "cell_type": "code",
      "metadata": {
        "colab": {
          "base_uri": "https://localhost:8080/"
        },
        "id": "Uzn26NVv1ycp",
        "outputId": "19e2f03f-a397-4d3c-b7d1-83a8a0199d21"
      },
      "source": [
        "data_conv2.printSchema()"
      ],
      "execution_count": 166,
      "outputs": [
        {
          "output_type": "stream",
          "text": [
            "root\n",
            " |-- id: string (nullable = true)\n",
            " |-- vendor_id: integer (nullable = true)\n",
            " |-- pickup_datetime: timestamp (nullable = true)\n",
            " |-- dropoff_datetime: timestamp (nullable = true)\n",
            " |-- passenger_count: integer (nullable = true)\n",
            " |-- pickup_longitude: double (nullable = true)\n",
            " |-- pickup_latitude: double (nullable = true)\n",
            " |-- dropoff_longitude: double (nullable = true)\n",
            " |-- dropoff_latitude: double (nullable = true)\n",
            " |-- store_and_fwd_flag: string (nullable = true)\n",
            " |-- trip_duration: integer (nullable = true)\n",
            "\n"
          ],
          "name": "stdout"
        }
      ]
    },
    {
      "cell_type": "code",
      "metadata": {
        "id": "Y4B9TMQICsQO"
      },
      "source": [
        "import pyspark.sql.functions as f"
      ],
      "execution_count": 167,
      "outputs": []
    },
    {
      "cell_type": "markdown",
      "metadata": {
        "id": "-Qoc59WzzoXn"
      },
      "source": [
        "New columns to show the pickup and dropoff days"
      ]
    },
    {
      "cell_type": "code",
      "metadata": {
        "id": "uEMVSoVMA-zm"
      },
      "source": [
        "data_conv3 = data_conv2.withColumn(\"pickup_day\", f.date_format(\"pickup_datetime\", \"EEEE\"))"
      ],
      "execution_count": 168,
      "outputs": []
    },
    {
      "cell_type": "code",
      "metadata": {
        "colab": {
          "base_uri": "https://localhost:8080/"
        },
        "id": "tax11qCIES8V",
        "outputId": "95e9b276-2fc5-41af-ece5-ac2e9e4b1e28"
      },
      "source": [
        "data_conv3.show(5)"
      ],
      "execution_count": 169,
      "outputs": [
        {
          "output_type": "stream",
          "text": [
            "+---------+---------+-------------------+-------------------+---------------+------------------+------------------+------------------+------------------+------------------+-------------+----------+\n",
            "|       id|vendor_id|    pickup_datetime|   dropoff_datetime|passenger_count|  pickup_longitude|   pickup_latitude| dropoff_longitude|  dropoff_latitude|store_and_fwd_flag|trip_duration|pickup_day|\n",
            "+---------+---------+-------------------+-------------------+---------------+------------------+------------------+------------------+------------------+------------------+-------------+----------+\n",
            "|id2875421|        2|2016-03-14 17:24:55|2016-03-14 17:32:30|              1| -73.9821548461914| 40.76793670654297|-73.96463012695312|40.765602111816406|                 N|          455|    Monday|\n",
            "|id2377394|        1|2016-06-12 00:43:35|2016-06-12 00:54:38|              1|-73.98041534423828|40.738563537597656|-73.99948120117188| 40.73115158081055|                 N|          663|    Sunday|\n",
            "|id3858529|        2|2016-01-19 11:35:24|2016-01-19 12:10:48|              1| -73.9790267944336|40.763938903808594|-74.00533294677734|40.710086822509766|                 N|         2124|   Tuesday|\n",
            "|id3504673|        2|2016-04-06 19:32:31|2016-04-06 19:39:40|              1|-74.01004028320312|   40.719970703125|-74.01226806640625| 40.70671844482422|                 N|          429| Wednesday|\n",
            "|id2181028|        2|2016-03-26 13:30:55|2016-03-26 13:38:10|              1|-73.97305297851562|40.793209075927734| -73.9729232788086| 40.78252029418945|                 N|          435|  Saturday|\n",
            "+---------+---------+-------------------+-------------------+---------------+------------------+------------------+------------------+------------------+------------------+-------------+----------+\n",
            "only showing top 5 rows\n",
            "\n"
          ],
          "name": "stdout"
        }
      ]
    },
    {
      "cell_type": "code",
      "metadata": {
        "id": "nYeY-qoNDilM"
      },
      "source": [
        "data_conv4 = data_conv3.withColumn(\"dropoff_day\", f.date_format(\"dropoff_datetime\", \"EEEE\"))"
      ],
      "execution_count": 170,
      "outputs": []
    },
    {
      "cell_type": "code",
      "metadata": {
        "colab": {
          "base_uri": "https://localhost:8080/"
        },
        "id": "0sJZfS8T_fPX",
        "outputId": "1bba4527-1c1c-45ef-dc4c-4676c7aded89"
      },
      "source": [
        "data_conv4.show()"
      ],
      "execution_count": 171,
      "outputs": [
        {
          "output_type": "stream",
          "text": [
            "+---------+---------+-------------------+-------------------+---------------+------------------+------------------+------------------+------------------+------------------+-------------+----------+-----------+\n",
            "|       id|vendor_id|    pickup_datetime|   dropoff_datetime|passenger_count|  pickup_longitude|   pickup_latitude| dropoff_longitude|  dropoff_latitude|store_and_fwd_flag|trip_duration|pickup_day|dropoff_day|\n",
            "+---------+---------+-------------------+-------------------+---------------+------------------+------------------+------------------+------------------+------------------+-------------+----------+-----------+\n",
            "|id2875421|        2|2016-03-14 17:24:55|2016-03-14 17:32:30|              1| -73.9821548461914| 40.76793670654297|-73.96463012695312|40.765602111816406|                 N|          455|    Monday|     Monday|\n",
            "|id2377394|        1|2016-06-12 00:43:35|2016-06-12 00:54:38|              1|-73.98041534423828|40.738563537597656|-73.99948120117188| 40.73115158081055|                 N|          663|    Sunday|     Sunday|\n",
            "|id3858529|        2|2016-01-19 11:35:24|2016-01-19 12:10:48|              1| -73.9790267944336|40.763938903808594|-74.00533294677734|40.710086822509766|                 N|         2124|   Tuesday|    Tuesday|\n",
            "|id3504673|        2|2016-04-06 19:32:31|2016-04-06 19:39:40|              1|-74.01004028320312|   40.719970703125|-74.01226806640625| 40.70671844482422|                 N|          429| Wednesday|  Wednesday|\n",
            "|id2181028|        2|2016-03-26 13:30:55|2016-03-26 13:38:10|              1|-73.97305297851562|40.793209075927734| -73.9729232788086| 40.78252029418945|                 N|          435|  Saturday|   Saturday|\n",
            "|id0801584|        2|2016-01-30 22:01:40|2016-01-30 22:09:03|              6|-73.98285675048828| 40.74219512939453|-73.99208068847656|40.749183654785156|                 N|          443|  Saturday|   Saturday|\n",
            "|id1813257|        1|2016-06-17 22:34:59|2016-06-17 22:40:40|              4| -73.9690170288086| 40.75783920288086|-73.95740509033203| 40.76589584350586|                 N|          341|    Friday|     Friday|\n",
            "|id1324603|        2|2016-05-21 07:54:58|2016-05-21 08:20:49|              1|-73.96927642822266| 40.79777908325195|-73.92247009277344| 40.76055908203125|                 N|         1551|  Saturday|   Saturday|\n",
            "|id1301050|        1|2016-05-27 23:12:23|2016-05-27 23:16:38|              1|-73.99948120117188|40.738399505615234|-73.98578643798828| 40.73281478881836|                 N|          255|    Friday|     Friday|\n",
            "|id0012891|        2|2016-03-10 21:45:01|2016-03-10 22:05:26|              1|-73.98104858398438| 40.74433898925781| -73.9729995727539| 40.78998947143555|                 N|         1225|  Thursday|   Thursday|\n",
            "|id1436371|        2|2016-05-10 22:08:41|2016-05-10 22:29:55|              1|-73.98265075683594| 40.76383972167969|-74.00222778320312| 40.73299026489258|                 N|         1274|   Tuesday|    Tuesday|\n",
            "|id1299289|        2|2016-05-15 11:16:11|2016-05-15 11:34:59|              4|-73.99153137207031| 40.74943923950195|   -73.95654296875|  40.7706298828125|                 N|         1128|    Sunday|     Sunday|\n",
            "|id1187965|        2|2016-02-19 09:52:46|2016-02-19 10:11:20|              2|-73.96298217773438| 40.75667953491211|-73.98440551757812|40.760719299316406|                 N|         1114|    Friday|     Friday|\n",
            "|id0799785|        2|2016-06-01 20:58:29|2016-06-01 21:02:49|              1|-73.95630645751953|40.767940521240234|-73.96611022949219| 40.76300048828125|                 N|          260| Wednesday|  Wednesday|\n",
            "|id2900608|        2|2016-05-27 00:43:36|2016-05-27 01:07:10|              1|-73.99219512939453| 40.72722625732422|-73.97465515136719|  40.7830696105957|                 N|         1414|    Friday|     Friday|\n",
            "|id3319787|        1|2016-05-16 15:29:02|2016-05-16 15:32:33|              1|-73.95551300048828|40.768592834472656|-73.94876098632812| 40.77154541015625|                 N|          211|    Monday|     Monday|\n",
            "|id3379579|        2|2016-04-11 17:29:50|2016-04-11 18:08:26|              1|-73.99116516113281| 40.75556182861328| -73.9992904663086|  40.7253532409668|                 N|         2316|    Monday|     Monday|\n",
            "|id1154431|        1|2016-04-14 08:48:26|2016-04-14 09:00:37|              1|-73.99425506591797| 40.74580383300781| -73.9996566772461| 40.72334289550781|                 N|          731|  Thursday|   Thursday|\n",
            "|id3552682|        1|2016-06-27 09:55:13|2016-06-27 10:17:10|              1|-74.00398254394531|  40.7130126953125|-73.97919464111328| 40.74992370605469|                 N|         1317|    Monday|     Monday|\n",
            "|id3390316|        2|2016-06-05 13:47:23|2016-06-05 13:51:34|              1|   -73.98388671875|40.738197326660156|-73.99120330810547| 40.72787094116211|                 N|          251|    Sunday|     Sunday|\n",
            "+---------+---------+-------------------+-------------------+---------------+------------------+------------------+------------------+------------------+------------------+-------------+----------+-----------+\n",
            "only showing top 20 rows\n",
            "\n"
          ],
          "name": "stdout"
        }
      ]
    },
    {
      "cell_type": "markdown",
      "metadata": {
        "id": "nSSSa46Pz_rv"
      },
      "source": [
        "New columns to show the pickup and dropoff day numbers"
      ]
    },
    {
      "cell_type": "code",
      "metadata": {
        "id": "qRAvYCzdEisR"
      },
      "source": [
        "data_conv5 = data_conv4.withColumn(\"pickup_day_no\", f.date_format(\"pickup_datetime\", \"F\").cast(IntegerType()))"
      ],
      "execution_count": 172,
      "outputs": []
    },
    {
      "cell_type": "code",
      "metadata": {
        "colab": {
          "base_uri": "https://localhost:8080/"
        },
        "id": "2Gpxl_XUFs6P",
        "outputId": "f49e9a6d-5c8d-4233-ff87-48b59ae09df6"
      },
      "source": [
        "data_conv5.printSchema()"
      ],
      "execution_count": 173,
      "outputs": [
        {
          "output_type": "stream",
          "text": [
            "root\n",
            " |-- id: string (nullable = true)\n",
            " |-- vendor_id: integer (nullable = true)\n",
            " |-- pickup_datetime: timestamp (nullable = true)\n",
            " |-- dropoff_datetime: timestamp (nullable = true)\n",
            " |-- passenger_count: integer (nullable = true)\n",
            " |-- pickup_longitude: double (nullable = true)\n",
            " |-- pickup_latitude: double (nullable = true)\n",
            " |-- dropoff_longitude: double (nullable = true)\n",
            " |-- dropoff_latitude: double (nullable = true)\n",
            " |-- store_and_fwd_flag: string (nullable = true)\n",
            " |-- trip_duration: integer (nullable = true)\n",
            " |-- pickup_day: string (nullable = true)\n",
            " |-- dropoff_day: string (nullable = true)\n",
            " |-- pickup_day_no: integer (nullable = true)\n",
            "\n"
          ],
          "name": "stdout"
        }
      ]
    },
    {
      "cell_type": "code",
      "metadata": {
        "id": "r-lCFSggGu0W"
      },
      "source": [
        "data_conv6 = data_conv5.withColumn(\"dropoff_day_no\", f.date_format(\"dropoff_datetime\", \"F\").cast(IntegerType()))"
      ],
      "execution_count": 174,
      "outputs": []
    },
    {
      "cell_type": "code",
      "metadata": {
        "colab": {
          "base_uri": "https://localhost:8080/"
        },
        "id": "S69xWAGSG5wL",
        "outputId": "9fa7550a-8c43-4e25-b96a-59dec85ebd53"
      },
      "source": [
        "data_conv6.printSchema()"
      ],
      "execution_count": 175,
      "outputs": [
        {
          "output_type": "stream",
          "text": [
            "root\n",
            " |-- id: string (nullable = true)\n",
            " |-- vendor_id: integer (nullable = true)\n",
            " |-- pickup_datetime: timestamp (nullable = true)\n",
            " |-- dropoff_datetime: timestamp (nullable = true)\n",
            " |-- passenger_count: integer (nullable = true)\n",
            " |-- pickup_longitude: double (nullable = true)\n",
            " |-- pickup_latitude: double (nullable = true)\n",
            " |-- dropoff_longitude: double (nullable = true)\n",
            " |-- dropoff_latitude: double (nullable = true)\n",
            " |-- store_and_fwd_flag: string (nullable = true)\n",
            " |-- trip_duration: integer (nullable = true)\n",
            " |-- pickup_day: string (nullable = true)\n",
            " |-- dropoff_day: string (nullable = true)\n",
            " |-- pickup_day_no: integer (nullable = true)\n",
            " |-- dropoff_day_no: integer (nullable = true)\n",
            "\n"
          ],
          "name": "stdout"
        }
      ]
    },
    {
      "cell_type": "markdown",
      "metadata": {
        "id": "rXTTm8o50OxV"
      },
      "source": [
        "New columns to show the pickup and dropoff hours"
      ]
    },
    {
      "cell_type": "code",
      "metadata": {
        "id": "AdjH7DMJHJwt"
      },
      "source": [
        "data_conv7 = data_conv6.withColumn(\"pickup_hour\", f.date_format(\"pickup_datetime\", \"H\").cast(IntegerType()))"
      ],
      "execution_count": 176,
      "outputs": []
    },
    {
      "cell_type": "code",
      "metadata": {
        "colab": {
          "base_uri": "https://localhost:8080/"
        },
        "id": "rgtx3ZiQHfO9",
        "outputId": "f302c3cf-6224-4356-f214-d60e0e885bb4"
      },
      "source": [
        "data_conv7.printSchema()"
      ],
      "execution_count": 177,
      "outputs": [
        {
          "output_type": "stream",
          "text": [
            "root\n",
            " |-- id: string (nullable = true)\n",
            " |-- vendor_id: integer (nullable = true)\n",
            " |-- pickup_datetime: timestamp (nullable = true)\n",
            " |-- dropoff_datetime: timestamp (nullable = true)\n",
            " |-- passenger_count: integer (nullable = true)\n",
            " |-- pickup_longitude: double (nullable = true)\n",
            " |-- pickup_latitude: double (nullable = true)\n",
            " |-- dropoff_longitude: double (nullable = true)\n",
            " |-- dropoff_latitude: double (nullable = true)\n",
            " |-- store_and_fwd_flag: string (nullable = true)\n",
            " |-- trip_duration: integer (nullable = true)\n",
            " |-- pickup_day: string (nullable = true)\n",
            " |-- dropoff_day: string (nullable = true)\n",
            " |-- pickup_day_no: integer (nullable = true)\n",
            " |-- dropoff_day_no: integer (nullable = true)\n",
            " |-- pickup_hour: integer (nullable = true)\n",
            "\n"
          ],
          "name": "stdout"
        }
      ]
    },
    {
      "cell_type": "code",
      "metadata": {
        "id": "uEawQFoIHmTS"
      },
      "source": [
        "data_conv8 = data_conv7.withColumn(\"dropoff_hour\", f.date_format(\"dropoff_datetime\", \"H\").cast(IntegerType()))"
      ],
      "execution_count": 178,
      "outputs": []
    },
    {
      "cell_type": "code",
      "metadata": {
        "colab": {
          "base_uri": "https://localhost:8080/"
        },
        "id": "Aa-eqENYHuN4",
        "outputId": "9afca7e4-2bfa-493f-b84b-c556e3c7b938"
      },
      "source": [
        "data_conv8.printSchema()"
      ],
      "execution_count": 179,
      "outputs": [
        {
          "output_type": "stream",
          "text": [
            "root\n",
            " |-- id: string (nullable = true)\n",
            " |-- vendor_id: integer (nullable = true)\n",
            " |-- pickup_datetime: timestamp (nullable = true)\n",
            " |-- dropoff_datetime: timestamp (nullable = true)\n",
            " |-- passenger_count: integer (nullable = true)\n",
            " |-- pickup_longitude: double (nullable = true)\n",
            " |-- pickup_latitude: double (nullable = true)\n",
            " |-- dropoff_longitude: double (nullable = true)\n",
            " |-- dropoff_latitude: double (nullable = true)\n",
            " |-- store_and_fwd_flag: string (nullable = true)\n",
            " |-- trip_duration: integer (nullable = true)\n",
            " |-- pickup_day: string (nullable = true)\n",
            " |-- dropoff_day: string (nullable = true)\n",
            " |-- pickup_day_no: integer (nullable = true)\n",
            " |-- dropoff_day_no: integer (nullable = true)\n",
            " |-- pickup_hour: integer (nullable = true)\n",
            " |-- dropoff_hour: integer (nullable = true)\n",
            "\n"
          ],
          "name": "stdout"
        }
      ]
    },
    {
      "cell_type": "markdown",
      "metadata": {
        "id": "bT5NmtbF0VMr"
      },
      "source": [
        "New columns to show the pickup and dropoff months"
      ]
    },
    {
      "cell_type": "code",
      "metadata": {
        "id": "5sllwn6QILr9"
      },
      "source": [
        "data_conv9 = data_conv8.withColumn(\"pickup_month\", f.date_format(\"pickup_datetime\", \"M\").cast(IntegerType()))"
      ],
      "execution_count": 180,
      "outputs": []
    },
    {
      "cell_type": "code",
      "metadata": {
        "colab": {
          "base_uri": "https://localhost:8080/"
        },
        "id": "R5cJnb-WH3UR",
        "outputId": "c4baa3d1-dd51-4b3d-d966-57e08b561702"
      },
      "source": [
        "data_conv9.printSchema()"
      ],
      "execution_count": 181,
      "outputs": [
        {
          "output_type": "stream",
          "text": [
            "root\n",
            " |-- id: string (nullable = true)\n",
            " |-- vendor_id: integer (nullable = true)\n",
            " |-- pickup_datetime: timestamp (nullable = true)\n",
            " |-- dropoff_datetime: timestamp (nullable = true)\n",
            " |-- passenger_count: integer (nullable = true)\n",
            " |-- pickup_longitude: double (nullable = true)\n",
            " |-- pickup_latitude: double (nullable = true)\n",
            " |-- dropoff_longitude: double (nullable = true)\n",
            " |-- dropoff_latitude: double (nullable = true)\n",
            " |-- store_and_fwd_flag: string (nullable = true)\n",
            " |-- trip_duration: integer (nullable = true)\n",
            " |-- pickup_day: string (nullable = true)\n",
            " |-- dropoff_day: string (nullable = true)\n",
            " |-- pickup_day_no: integer (nullable = true)\n",
            " |-- dropoff_day_no: integer (nullable = true)\n",
            " |-- pickup_hour: integer (nullable = true)\n",
            " |-- dropoff_hour: integer (nullable = true)\n",
            " |-- pickup_month: integer (nullable = true)\n",
            "\n"
          ],
          "name": "stdout"
        }
      ]
    },
    {
      "cell_type": "code",
      "metadata": {
        "id": "TLjlSsJuJSoD"
      },
      "source": [
        "data_conv10 = data_conv9.withColumn(\"dropoff_month\", f.date_format(\"dropoff_datetime\", \"M\").cast(IntegerType()))"
      ],
      "execution_count": 182,
      "outputs": []
    },
    {
      "cell_type": "code",
      "metadata": {
        "colab": {
          "base_uri": "https://localhost:8080/"
        },
        "id": "z4JUFcjMJfOZ",
        "outputId": "67c2d3bb-a4d4-49ce-9b8b-89c42d575241"
      },
      "source": [
        "data_conv10.printSchema()"
      ],
      "execution_count": 183,
      "outputs": [
        {
          "output_type": "stream",
          "text": [
            "root\n",
            " |-- id: string (nullable = true)\n",
            " |-- vendor_id: integer (nullable = true)\n",
            " |-- pickup_datetime: timestamp (nullable = true)\n",
            " |-- dropoff_datetime: timestamp (nullable = true)\n",
            " |-- passenger_count: integer (nullable = true)\n",
            " |-- pickup_longitude: double (nullable = true)\n",
            " |-- pickup_latitude: double (nullable = true)\n",
            " |-- dropoff_longitude: double (nullable = true)\n",
            " |-- dropoff_latitude: double (nullable = true)\n",
            " |-- store_and_fwd_flag: string (nullable = true)\n",
            " |-- trip_duration: integer (nullable = true)\n",
            " |-- pickup_day: string (nullable = true)\n",
            " |-- dropoff_day: string (nullable = true)\n",
            " |-- pickup_day_no: integer (nullable = true)\n",
            " |-- dropoff_day_no: integer (nullable = true)\n",
            " |-- pickup_hour: integer (nullable = true)\n",
            " |-- dropoff_hour: integer (nullable = true)\n",
            " |-- pickup_month: integer (nullable = true)\n",
            " |-- dropoff_month: integer (nullable = true)\n",
            "\n"
          ],
          "name": "stdout"
        }
      ]
    },
    {
      "cell_type": "code",
      "metadata": {
        "id": "voOYjXQaNAZW"
      },
      "source": [
        "from pyspark.sql.types import StructType, StructField, IntegerType, DoubleType, StringType\n",
        "from pyspark.sql.functions import udf\n",
        "from pyspark.sql import Row"
      ],
      "execution_count": 184,
      "outputs": []
    },
    {
      "cell_type": "markdown",
      "metadata": {
        "id": "pGdW3IrI0dIV"
      },
      "source": [
        "A function to calculate time of day per 4-hour period"
      ]
    },
    {
      "cell_type": "code",
      "metadata": {
        "colab": {
          "base_uri": "https://localhost:8080/"
        },
        "id": "q6qeijPcJk2w",
        "outputId": "05cc7d8b-1a1f-4c4d-fe13-6edc061abad6"
      },
      "source": [
        "def time_of_day(x):\n",
        "    if x in range(6,10):\n",
        "        return \"Morning\"\n",
        "    elif x in range(10,14):\n",
        "        return \"Afternoon\"\n",
        "    elif x in range(14,18):\n",
        "        return \"Evening\"\n",
        "    else:\n",
        "        return \"Night\"\n",
        "\n",
        "col_time_of_day = udf(lambda z: time_of_day(z))\n",
        "spark.udf.register(\"col_time_of_day\", time_of_day, StringType())"
      ],
      "execution_count": 185,
      "outputs": [
        {
          "output_type": "execute_result",
          "data": {
            "text/plain": [
              "<function __main__.time_of_day>"
            ]
          },
          "metadata": {
            "tags": []
          },
          "execution_count": 185
        }
      ]
    },
    {
      "cell_type": "markdown",
      "metadata": {
        "id": "hFdqlBdL0sPJ"
      },
      "source": [
        "New columns to show the pickup and dropoff time of the day"
      ]
    },
    {
      "cell_type": "code",
      "metadata": {
        "id": "ZvpgA9uuJpbj"
      },
      "source": [
        "data_conv11 = data_conv10.withColumn(\"pickup_timeofday\", col_time_of_day(\"pickup_hour\"))"
      ],
      "execution_count": 186,
      "outputs": []
    },
    {
      "cell_type": "code",
      "metadata": {
        "colab": {
          "base_uri": "https://localhost:8080/"
        },
        "id": "72tmJ_cPXXov",
        "outputId": "47f965f0-a97d-40c4-81e3-95b1de047562"
      },
      "source": [
        "data_conv11.show()"
      ],
      "execution_count": 187,
      "outputs": [
        {
          "output_type": "stream",
          "text": [
            "+---------+---------+-------------------+-------------------+---------------+------------------+------------------+------------------+------------------+------------------+-------------+----------+-----------+-------------+--------------+-----------+------------+------------+-------------+----------------+\n",
            "|       id|vendor_id|    pickup_datetime|   dropoff_datetime|passenger_count|  pickup_longitude|   pickup_latitude| dropoff_longitude|  dropoff_latitude|store_and_fwd_flag|trip_duration|pickup_day|dropoff_day|pickup_day_no|dropoff_day_no|pickup_hour|dropoff_hour|pickup_month|dropoff_month|pickup_timeofday|\n",
            "+---------+---------+-------------------+-------------------+---------------+------------------+------------------+------------------+------------------+------------------+-------------+----------+-----------+-------------+--------------+-----------+------------+------------+-------------+----------------+\n",
            "|id2875421|        2|2016-03-14 17:24:55|2016-03-14 17:32:30|              1| -73.9821548461914| 40.76793670654297|-73.96463012695312|40.765602111816406|                 N|          455|    Monday|     Monday|            7|             7|         17|          17|           3|            3|         Evening|\n",
            "|id2377394|        1|2016-06-12 00:43:35|2016-06-12 00:54:38|              1|-73.98041534423828|40.738563537597656|-73.99948120117188| 40.73115158081055|                 N|          663|    Sunday|     Sunday|            5|             5|          0|           0|           6|            6|           Night|\n",
            "|id3858529|        2|2016-01-19 11:35:24|2016-01-19 12:10:48|              1| -73.9790267944336|40.763938903808594|-74.00533294677734|40.710086822509766|                 N|         2124|   Tuesday|    Tuesday|            5|             5|         11|          12|           1|            1|       Afternoon|\n",
            "|id3504673|        2|2016-04-06 19:32:31|2016-04-06 19:39:40|              1|-74.01004028320312|   40.719970703125|-74.01226806640625| 40.70671844482422|                 N|          429| Wednesday|  Wednesday|            6|             6|         19|          19|           4|            4|           Night|\n",
            "|id2181028|        2|2016-03-26 13:30:55|2016-03-26 13:38:10|              1|-73.97305297851562|40.793209075927734| -73.9729232788086| 40.78252029418945|                 N|          435|  Saturday|   Saturday|            5|             5|         13|          13|           3|            3|       Afternoon|\n",
            "|id0801584|        2|2016-01-30 22:01:40|2016-01-30 22:09:03|              6|-73.98285675048828| 40.74219512939453|-73.99208068847656|40.749183654785156|                 N|          443|  Saturday|   Saturday|            2|             2|         22|          22|           1|            1|           Night|\n",
            "|id1813257|        1|2016-06-17 22:34:59|2016-06-17 22:40:40|              4| -73.9690170288086| 40.75783920288086|-73.95740509033203| 40.76589584350586|                 N|          341|    Friday|     Friday|            3|             3|         22|          22|           6|            6|           Night|\n",
            "|id1324603|        2|2016-05-21 07:54:58|2016-05-21 08:20:49|              1|-73.96927642822266| 40.79777908325195|-73.92247009277344| 40.76055908203125|                 N|         1551|  Saturday|   Saturday|            7|             7|          7|           8|           5|            5|         Morning|\n",
            "|id1301050|        1|2016-05-27 23:12:23|2016-05-27 23:16:38|              1|-73.99948120117188|40.738399505615234|-73.98578643798828| 40.73281478881836|                 N|          255|    Friday|     Friday|            6|             6|         23|          23|           5|            5|           Night|\n",
            "|id0012891|        2|2016-03-10 21:45:01|2016-03-10 22:05:26|              1|-73.98104858398438| 40.74433898925781| -73.9729995727539| 40.78998947143555|                 N|         1225|  Thursday|   Thursday|            3|             3|         21|          22|           3|            3|           Night|\n",
            "|id1436371|        2|2016-05-10 22:08:41|2016-05-10 22:29:55|              1|-73.98265075683594| 40.76383972167969|-74.00222778320312| 40.73299026489258|                 N|         1274|   Tuesday|    Tuesday|            3|             3|         22|          22|           5|            5|           Night|\n",
            "|id1299289|        2|2016-05-15 11:16:11|2016-05-15 11:34:59|              4|-73.99153137207031| 40.74943923950195|   -73.95654296875|  40.7706298828125|                 N|         1128|    Sunday|     Sunday|            1|             1|         11|          11|           5|            5|       Afternoon|\n",
            "|id1187965|        2|2016-02-19 09:52:46|2016-02-19 10:11:20|              2|-73.96298217773438| 40.75667953491211|-73.98440551757812|40.760719299316406|                 N|         1114|    Friday|     Friday|            5|             5|          9|          10|           2|            2|         Morning|\n",
            "|id0799785|        2|2016-06-01 20:58:29|2016-06-01 21:02:49|              1|-73.95630645751953|40.767940521240234|-73.96611022949219| 40.76300048828125|                 N|          260| Wednesday|  Wednesday|            1|             1|         20|          21|           6|            6|           Night|\n",
            "|id2900608|        2|2016-05-27 00:43:36|2016-05-27 01:07:10|              1|-73.99219512939453| 40.72722625732422|-73.97465515136719|  40.7830696105957|                 N|         1414|    Friday|     Friday|            6|             6|          0|           1|           5|            5|           Night|\n",
            "|id3319787|        1|2016-05-16 15:29:02|2016-05-16 15:32:33|              1|-73.95551300048828|40.768592834472656|-73.94876098632812| 40.77154541015625|                 N|          211|    Monday|     Monday|            2|             2|         15|          15|           5|            5|         Evening|\n",
            "|id3379579|        2|2016-04-11 17:29:50|2016-04-11 18:08:26|              1|-73.99116516113281| 40.75556182861328| -73.9992904663086|  40.7253532409668|                 N|         2316|    Monday|     Monday|            4|             4|         17|          18|           4|            4|         Evening|\n",
            "|id1154431|        1|2016-04-14 08:48:26|2016-04-14 09:00:37|              1|-73.99425506591797| 40.74580383300781| -73.9996566772461| 40.72334289550781|                 N|          731|  Thursday|   Thursday|            7|             7|          8|           9|           4|            4|         Morning|\n",
            "|id3552682|        1|2016-06-27 09:55:13|2016-06-27 10:17:10|              1|-74.00398254394531|  40.7130126953125|-73.97919464111328| 40.74992370605469|                 N|         1317|    Monday|     Monday|            6|             6|          9|          10|           6|            6|         Morning|\n",
            "|id3390316|        2|2016-06-05 13:47:23|2016-06-05 13:51:34|              1|   -73.98388671875|40.738197326660156|-73.99120330810547| 40.72787094116211|                 N|          251|    Sunday|     Sunday|            5|             5|         13|          13|           6|            6|       Afternoon|\n",
            "+---------+---------+-------------------+-------------------+---------------+------------------+------------------+------------------+------------------+------------------+-------------+----------+-----------+-------------+--------------+-----------+------------+------------+-------------+----------------+\n",
            "only showing top 20 rows\n",
            "\n"
          ],
          "name": "stdout"
        }
      ]
    },
    {
      "cell_type": "code",
      "metadata": {
        "id": "5jqAvcA-TZkJ"
      },
      "source": [
        "data_conv12 = data_conv11.withColumn(\"dropoff_timeofday\", col_time_of_day(\"dropoff_hour\"))"
      ],
      "execution_count": 188,
      "outputs": []
    },
    {
      "cell_type": "code",
      "metadata": {
        "colab": {
          "base_uri": "https://localhost:8080/"
        },
        "id": "fSHIdA5EYBvv",
        "outputId": "c0af68e7-b9de-4efe-db03-f90b449935b3"
      },
      "source": [
        "data_conv12.show()"
      ],
      "execution_count": 189,
      "outputs": [
        {
          "output_type": "stream",
          "text": [
            "+---------+---------+-------------------+-------------------+---------------+------------------+------------------+------------------+------------------+------------------+-------------+----------+-----------+-------------+--------------+-----------+------------+------------+-------------+----------------+-----------------+\n",
            "|       id|vendor_id|    pickup_datetime|   dropoff_datetime|passenger_count|  pickup_longitude|   pickup_latitude| dropoff_longitude|  dropoff_latitude|store_and_fwd_flag|trip_duration|pickup_day|dropoff_day|pickup_day_no|dropoff_day_no|pickup_hour|dropoff_hour|pickup_month|dropoff_month|pickup_timeofday|dropoff_timeofday|\n",
            "+---------+---------+-------------------+-------------------+---------------+------------------+------------------+------------------+------------------+------------------+-------------+----------+-----------+-------------+--------------+-----------+------------+------------+-------------+----------------+-----------------+\n",
            "|id2875421|        2|2016-03-14 17:24:55|2016-03-14 17:32:30|              1| -73.9821548461914| 40.76793670654297|-73.96463012695312|40.765602111816406|                 N|          455|    Monday|     Monday|            7|             7|         17|          17|           3|            3|         Evening|          Evening|\n",
            "|id2377394|        1|2016-06-12 00:43:35|2016-06-12 00:54:38|              1|-73.98041534423828|40.738563537597656|-73.99948120117188| 40.73115158081055|                 N|          663|    Sunday|     Sunday|            5|             5|          0|           0|           6|            6|           Night|            Night|\n",
            "|id3858529|        2|2016-01-19 11:35:24|2016-01-19 12:10:48|              1| -73.9790267944336|40.763938903808594|-74.00533294677734|40.710086822509766|                 N|         2124|   Tuesday|    Tuesday|            5|             5|         11|          12|           1|            1|       Afternoon|        Afternoon|\n",
            "|id3504673|        2|2016-04-06 19:32:31|2016-04-06 19:39:40|              1|-74.01004028320312|   40.719970703125|-74.01226806640625| 40.70671844482422|                 N|          429| Wednesday|  Wednesday|            6|             6|         19|          19|           4|            4|           Night|            Night|\n",
            "|id2181028|        2|2016-03-26 13:30:55|2016-03-26 13:38:10|              1|-73.97305297851562|40.793209075927734| -73.9729232788086| 40.78252029418945|                 N|          435|  Saturday|   Saturday|            5|             5|         13|          13|           3|            3|       Afternoon|        Afternoon|\n",
            "|id0801584|        2|2016-01-30 22:01:40|2016-01-30 22:09:03|              6|-73.98285675048828| 40.74219512939453|-73.99208068847656|40.749183654785156|                 N|          443|  Saturday|   Saturday|            2|             2|         22|          22|           1|            1|           Night|            Night|\n",
            "|id1813257|        1|2016-06-17 22:34:59|2016-06-17 22:40:40|              4| -73.9690170288086| 40.75783920288086|-73.95740509033203| 40.76589584350586|                 N|          341|    Friday|     Friday|            3|             3|         22|          22|           6|            6|           Night|            Night|\n",
            "|id1324603|        2|2016-05-21 07:54:58|2016-05-21 08:20:49|              1|-73.96927642822266| 40.79777908325195|-73.92247009277344| 40.76055908203125|                 N|         1551|  Saturday|   Saturday|            7|             7|          7|           8|           5|            5|         Morning|          Morning|\n",
            "|id1301050|        1|2016-05-27 23:12:23|2016-05-27 23:16:38|              1|-73.99948120117188|40.738399505615234|-73.98578643798828| 40.73281478881836|                 N|          255|    Friday|     Friday|            6|             6|         23|          23|           5|            5|           Night|            Night|\n",
            "|id0012891|        2|2016-03-10 21:45:01|2016-03-10 22:05:26|              1|-73.98104858398438| 40.74433898925781| -73.9729995727539| 40.78998947143555|                 N|         1225|  Thursday|   Thursday|            3|             3|         21|          22|           3|            3|           Night|            Night|\n",
            "|id1436371|        2|2016-05-10 22:08:41|2016-05-10 22:29:55|              1|-73.98265075683594| 40.76383972167969|-74.00222778320312| 40.73299026489258|                 N|         1274|   Tuesday|    Tuesday|            3|             3|         22|          22|           5|            5|           Night|            Night|\n",
            "|id1299289|        2|2016-05-15 11:16:11|2016-05-15 11:34:59|              4|-73.99153137207031| 40.74943923950195|   -73.95654296875|  40.7706298828125|                 N|         1128|    Sunday|     Sunday|            1|             1|         11|          11|           5|            5|       Afternoon|        Afternoon|\n",
            "|id1187965|        2|2016-02-19 09:52:46|2016-02-19 10:11:20|              2|-73.96298217773438| 40.75667953491211|-73.98440551757812|40.760719299316406|                 N|         1114|    Friday|     Friday|            5|             5|          9|          10|           2|            2|         Morning|        Afternoon|\n",
            "|id0799785|        2|2016-06-01 20:58:29|2016-06-01 21:02:49|              1|-73.95630645751953|40.767940521240234|-73.96611022949219| 40.76300048828125|                 N|          260| Wednesday|  Wednesday|            1|             1|         20|          21|           6|            6|           Night|            Night|\n",
            "|id2900608|        2|2016-05-27 00:43:36|2016-05-27 01:07:10|              1|-73.99219512939453| 40.72722625732422|-73.97465515136719|  40.7830696105957|                 N|         1414|    Friday|     Friday|            6|             6|          0|           1|           5|            5|           Night|            Night|\n",
            "|id3319787|        1|2016-05-16 15:29:02|2016-05-16 15:32:33|              1|-73.95551300048828|40.768592834472656|-73.94876098632812| 40.77154541015625|                 N|          211|    Monday|     Monday|            2|             2|         15|          15|           5|            5|         Evening|          Evening|\n",
            "|id3379579|        2|2016-04-11 17:29:50|2016-04-11 18:08:26|              1|-73.99116516113281| 40.75556182861328| -73.9992904663086|  40.7253532409668|                 N|         2316|    Monday|     Monday|            4|             4|         17|          18|           4|            4|         Evening|            Night|\n",
            "|id1154431|        1|2016-04-14 08:48:26|2016-04-14 09:00:37|              1|-73.99425506591797| 40.74580383300781| -73.9996566772461| 40.72334289550781|                 N|          731|  Thursday|   Thursday|            7|             7|          8|           9|           4|            4|         Morning|          Morning|\n",
            "|id3552682|        1|2016-06-27 09:55:13|2016-06-27 10:17:10|              1|-74.00398254394531|  40.7130126953125|-73.97919464111328| 40.74992370605469|                 N|         1317|    Monday|     Monday|            6|             6|          9|          10|           6|            6|         Morning|        Afternoon|\n",
            "|id3390316|        2|2016-06-05 13:47:23|2016-06-05 13:51:34|              1|   -73.98388671875|40.738197326660156|-73.99120330810547| 40.72787094116211|                 N|          251|    Sunday|     Sunday|            5|             5|         13|          13|           6|            6|       Afternoon|        Afternoon|\n",
            "+---------+---------+-------------------+-------------------+---------------+------------------+------------------+------------------+------------------+------------------+-------------+----------+-----------+-------------+--------------+-----------+------------+------------+-------------+----------------+-----------------+\n",
            "only showing top 20 rows\n",
            "\n"
          ],
          "name": "stdout"
        }
      ]
    },
    {
      "cell_type": "code",
      "metadata": {
        "colab": {
          "base_uri": "https://localhost:8080/"
        },
        "id": "9eaN58-EYsCv",
        "outputId": "44d79a24-d3e2-4d8b-c012-d48a54e15d63"
      },
      "source": [
        "data_conv12.printSchema()"
      ],
      "execution_count": 190,
      "outputs": [
        {
          "output_type": "stream",
          "text": [
            "root\n",
            " |-- id: string (nullable = true)\n",
            " |-- vendor_id: integer (nullable = true)\n",
            " |-- pickup_datetime: timestamp (nullable = true)\n",
            " |-- dropoff_datetime: timestamp (nullable = true)\n",
            " |-- passenger_count: integer (nullable = true)\n",
            " |-- pickup_longitude: double (nullable = true)\n",
            " |-- pickup_latitude: double (nullable = true)\n",
            " |-- dropoff_longitude: double (nullable = true)\n",
            " |-- dropoff_latitude: double (nullable = true)\n",
            " |-- store_and_fwd_flag: string (nullable = true)\n",
            " |-- trip_duration: integer (nullable = true)\n",
            " |-- pickup_day: string (nullable = true)\n",
            " |-- dropoff_day: string (nullable = true)\n",
            " |-- pickup_day_no: integer (nullable = true)\n",
            " |-- dropoff_day_no: integer (nullable = true)\n",
            " |-- pickup_hour: integer (nullable = true)\n",
            " |-- dropoff_hour: integer (nullable = true)\n",
            " |-- pickup_month: integer (nullable = true)\n",
            " |-- dropoff_month: integer (nullable = true)\n",
            " |-- pickup_timeofday: string (nullable = true)\n",
            " |-- dropoff_timeofday: string (nullable = true)\n",
            "\n"
          ],
          "name": "stdout"
        }
      ]
    },
    {
      "cell_type": "code",
      "metadata": {
        "id": "z1gtqBf4bKgQ"
      },
      "source": [
        "from geopy.distance import great_circle"
      ],
      "execution_count": 191,
      "outputs": []
    },
    {
      "cell_type": "markdown",
      "metadata": {
        "id": "f1Ws4rNJ07tV"
      },
      "source": [
        "A function to calculate the distance between two coordinates"
      ]
    },
    {
      "cell_type": "code",
      "metadata": {
        "colab": {
          "base_uri": "https://localhost:8080/"
        },
        "id": "mL9drYtwbPQb",
        "outputId": "66ee5fe9-ec40-4590-e5bf-8b7dc46c4933"
      },
      "source": [
        "def cal_distance(pickup_lat , pickup_long , dropoff_lat, dropoff_long):\n",
        "    start_coordinates = pickup_lat, pickup_long\n",
        "    stop_coordinates = dropoff_lat, dropoff_long\n",
        "    \n",
        "    return great_circle(start_coordinates, stop_coordinates).km\n",
        "\n",
        "cal_distance_udf = udf(lambda x1,x2,y1,y2: cal_distance(x1,x2,y1,y2))\n",
        "spark.udf.register(\"cal_distance_udf\", cal_distance, DoubleType())"
      ],
      "execution_count": 192,
      "outputs": [
        {
          "output_type": "execute_result",
          "data": {
            "text/plain": [
              "<function __main__.cal_distance>"
            ]
          },
          "metadata": {
            "tags": []
          },
          "execution_count": 192
        }
      ]
    },
    {
      "cell_type": "markdown",
      "metadata": {
        "id": "NyuVNTB01FY0"
      },
      "source": [
        "New column to show the distances in km of trips"
      ]
    },
    {
      "cell_type": "code",
      "metadata": {
        "id": "R65_bSawb0hD"
      },
      "source": [
        "data_conv13 = data_conv12.withColumn(\"distance\", cal_distance_udf(\"pickup_latitude\", \"pickup_longitude\", \"dropoff_latitude\", \"dropoff_longitude\"))"
      ],
      "execution_count": 193,
      "outputs": []
    },
    {
      "cell_type": "code",
      "metadata": {
        "colab": {
          "base_uri": "https://localhost:8080/"
        },
        "id": "CkCO4h2Ydm_f",
        "outputId": "0b6d212b-856b-4503-a175-492401bddc53"
      },
      "source": [
        "data_conv13.printSchema()"
      ],
      "execution_count": 194,
      "outputs": [
        {
          "output_type": "stream",
          "text": [
            "root\n",
            " |-- id: string (nullable = true)\n",
            " |-- vendor_id: integer (nullable = true)\n",
            " |-- pickup_datetime: timestamp (nullable = true)\n",
            " |-- dropoff_datetime: timestamp (nullable = true)\n",
            " |-- passenger_count: integer (nullable = true)\n",
            " |-- pickup_longitude: double (nullable = true)\n",
            " |-- pickup_latitude: double (nullable = true)\n",
            " |-- dropoff_longitude: double (nullable = true)\n",
            " |-- dropoff_latitude: double (nullable = true)\n",
            " |-- store_and_fwd_flag: string (nullable = true)\n",
            " |-- trip_duration: integer (nullable = true)\n",
            " |-- pickup_day: string (nullable = true)\n",
            " |-- dropoff_day: string (nullable = true)\n",
            " |-- pickup_day_no: integer (nullable = true)\n",
            " |-- dropoff_day_no: integer (nullable = true)\n",
            " |-- pickup_hour: integer (nullable = true)\n",
            " |-- dropoff_hour: integer (nullable = true)\n",
            " |-- pickup_month: integer (nullable = true)\n",
            " |-- dropoff_month: integer (nullable = true)\n",
            " |-- pickup_timeofday: string (nullable = true)\n",
            " |-- dropoff_timeofday: string (nullable = true)\n",
            " |-- distance: string (nullable = true)\n",
            "\n"
          ],
          "name": "stdout"
        }
      ]
    },
    {
      "cell_type": "code",
      "metadata": {
        "colab": {
          "base_uri": "https://localhost:8080/"
        },
        "id": "WD6AS4INd_t2",
        "outputId": "f66f455c-5fa8-47a9-ca32-e16aeb24b3b2"
      },
      "source": [
        "data_conv13.show()"
      ],
      "execution_count": 195,
      "outputs": [
        {
          "output_type": "stream",
          "text": [
            "+---------+---------+-------------------+-------------------+---------------+------------------+------------------+------------------+------------------+------------------+-------------+----------+-----------+-------------+--------------+-----------+------------+------------+-------------+----------------+-----------------+------------------+\n",
            "|       id|vendor_id|    pickup_datetime|   dropoff_datetime|passenger_count|  pickup_longitude|   pickup_latitude| dropoff_longitude|  dropoff_latitude|store_and_fwd_flag|trip_duration|pickup_day|dropoff_day|pickup_day_no|dropoff_day_no|pickup_hour|dropoff_hour|pickup_month|dropoff_month|pickup_timeofday|dropoff_timeofday|          distance|\n",
            "+---------+---------+-------------------+-------------------+---------------+------------------+------------------+------------------+------------------+------------------+-------------+----------+-----------+-------------+--------------+-----------+------------+------------+-------------+----------------+-----------------+------------------+\n",
            "|id2875421|        2|2016-03-14 17:24:55|2016-03-14 17:32:30|              1| -73.9821548461914| 40.76793670654297|-73.96463012695312|40.765602111816406|                 N|          455|    Monday|     Monday|            7|             7|         17|          17|           3|            3|         Evening|          Evening|1.4985228965338449|\n",
            "|id2377394|        1|2016-06-12 00:43:35|2016-06-12 00:54:38|              1|-73.98041534423828|40.738563537597656|-73.99948120117188| 40.73115158081055|                 N|          663|    Sunday|     Sunday|            5|             5|          0|           0|           6|            6|           Night|            Night|1.8055097193475127|\n",
            "|id3858529|        2|2016-01-19 11:35:24|2016-01-19 12:10:48|              1| -73.9790267944336|40.763938903808594|-74.00533294677734|40.710086822509766|                 N|         2124|   Tuesday|    Tuesday|            5|             5|         11|          12|           1|            1|       Afternoon|        Afternoon| 6.385107515168457|\n",
            "|id3504673|        2|2016-04-06 19:32:31|2016-04-06 19:39:40|              1|-74.01004028320312|   40.719970703125|-74.01226806640625| 40.70671844482422|                 N|          429| Wednesday|  Wednesday|            6|             6|         19|          19|           4|            4|           Night|            Night|1.4855005212623669|\n",
            "|id2181028|        2|2016-03-26 13:30:55|2016-03-26 13:38:10|              1|-73.97305297851562|40.793209075927734| -73.9729232788086| 40.78252029418945|                 N|          435|  Saturday|   Saturday|            5|             5|         13|          13|           3|            3|       Afternoon|        Afternoon|1.1885901383944022|\n",
            "|id0801584|        2|2016-01-30 22:01:40|2016-01-30 22:09:03|              6|-73.98285675048828| 40.74219512939453|-73.99208068847656|40.749183654785156|                 N|          443|  Saturday|   Saturday|            2|             2|         22|          22|           1|            1|           Night|            Night|1.0989440117279554|\n",
            "|id1813257|        1|2016-06-17 22:34:59|2016-06-17 22:40:40|              4| -73.9690170288086| 40.75783920288086|-73.95740509033203| 40.76589584350586|                 N|          341|    Friday|     Friday|            3|             3|         22|          22|           6|            6|           Night|            Night|1.3262804506275783|\n",
            "|id1324603|        2|2016-05-21 07:54:58|2016-05-21 08:20:49|              1|-73.96927642822266| 40.79777908325195|-73.92247009277344| 40.76055908203125|                 N|         1551|  Saturday|   Saturday|            7|             7|          7|           8|           5|            5|         Morning|          Morning|  5.71498870406324|\n",
            "|id1301050|        1|2016-05-27 23:12:23|2016-05-27 23:16:38|              1|-73.99948120117188|40.738399505615234|-73.98578643798828| 40.73281478881836|                 N|          255|    Friday|     Friday|            6|             6|         23|          23|           5|            5|           Night|            Night|1.3103551339564383|\n",
            "|id0012891|        2|2016-03-10 21:45:01|2016-03-10 22:05:26|              1|-73.98104858398438| 40.74433898925781| -73.9729995727539| 40.78998947143555|                 N|         1225|  Thursday|   Thursday|            3|             3|         21|          22|           3|            3|           Night|            Night| 5.121168796554712|\n",
            "|id1436371|        2|2016-05-10 22:08:41|2016-05-10 22:29:55|              1|-73.98265075683594| 40.76383972167969|-74.00222778320312| 40.73299026489258|                 N|         1274|   Tuesday|    Tuesday|            3|             3|         22|          22|           5|            5|           Night|            Night|3.8061447716224244|\n",
            "|id1299289|        2|2016-05-15 11:16:11|2016-05-15 11:34:59|              4|-73.99153137207031| 40.74943923950195|   -73.95654296875|  40.7706298828125|                 N|         1128|    Sunday|     Sunday|            1|             1|         11|          11|           5|            5|       Afternoon|        Afternoon|3.7731012685407403|\n",
            "|id1187965|        2|2016-02-19 09:52:46|2016-02-19 10:11:20|              2|-73.96298217773438| 40.75667953491211|-73.98440551757812|40.760719299316406|                 N|         1114|    Friday|     Friday|            5|             5|          9|          10|           2|            2|         Morning|        Afternoon|1.8594856470308148|\n",
            "|id0799785|        2|2016-06-01 20:58:29|2016-06-01 21:02:49|              1|-73.95630645751953|40.767940521240234|-73.96611022949219| 40.76300048828125|                 N|          260| Wednesday|  Wednesday|            1|             1|         20|          21|           6|            6|           Night|            Night|0.9916862514488629|\n",
            "|id2900608|        2|2016-05-27 00:43:36|2016-05-27 01:07:10|              1|-73.99219512939453| 40.72722625732422|-73.97465515136719|  40.7830696105957|                 N|         1414|    Friday|     Friday|            6|             6|          0|           1|           5|            5|           Night|            Night| 6.382844772995149|\n",
            "|id3319787|        1|2016-05-16 15:29:02|2016-05-16 15:32:33|              1|-73.95551300048828|40.768592834472656|-73.94876098632812| 40.77154541015625|                 N|          211|    Monday|     Monday|            2|             2|         15|          15|           5|            5|         Evening|          Evening|0.6565789536540859|\n",
            "|id3379579|        2|2016-04-11 17:29:50|2016-04-11 18:08:26|              1|-73.99116516113281| 40.75556182861328| -73.9992904663086|  40.7253532409668|                 N|         2316|    Monday|     Monday|            4|             4|         17|          18|           4|            4|         Evening|            Night|3.4280908046572045|\n",
            "|id1154431|        1|2016-04-14 08:48:26|2016-04-14 09:00:37|              1|-73.99425506591797| 40.74580383300781| -73.9996566772461| 40.72334289550781|                 N|          731|  Thursday|   Thursday|            7|             7|          8|           9|           4|            4|         Morning|          Morning| 2.538675404286568|\n",
            "|id3552682|        1|2016-06-27 09:55:13|2016-06-27 10:17:10|              1|-74.00398254394531|  40.7130126953125|-73.97919464111328| 40.74992370605469|                 N|         1317|    Monday|     Monday|            6|             6|          9|          10|           6|            6|         Morning|        Afternoon| 4.605207581115351|\n",
            "|id3390316|        2|2016-06-05 13:47:23|2016-06-05 13:51:34|              1|   -73.98388671875|40.738197326660156|-73.99120330810547| 40.72787094116211|                 N|          251|    Sunday|     Sunday|            5|             5|         13|          13|           6|            6|       Afternoon|        Afternoon|1.3032730583033074|\n",
            "+---------+---------+-------------------+-------------------+---------------+------------------+------------------+------------------+------------------+------------------+-------------+----------+-----------+-------------+--------------+-----------+------------+------------+-------------+----------------+-----------------+------------------+\n",
            "only showing top 20 rows\n",
            "\n"
          ],
          "name": "stdout"
        }
      ]
    },
    {
      "cell_type": "code",
      "metadata": {
        "colab": {
          "base_uri": "https://localhost:8080/"
        },
        "id": "WjvGdkQ9YKwo",
        "outputId": "83f45b33-c662-4cb2-96b3-701e40abe77f"
      },
      "source": [
        "from pyspark.sql import SparkSession\n",
        "\n",
        "spark = SparkSession.builder\\\n",
        "        .master(\"local[*]\")\\\n",
        "        .appName(\"New York Cab Info\")\\\n",
        "        .config('spark.ui.port', '4050')\\\n",
        "        .getOrCreate()\n",
        "print(\"A Technical Case Study of New York Cab Trips\")"
      ],
      "execution_count": 196,
      "outputs": [
        {
          "output_type": "stream",
          "text": [
            "A Technical Case Study of New York Cab Trips\n"
          ],
          "name": "stdout"
        }
      ]
    },
    {
      "cell_type": "code",
      "metadata": {
        "id": "VsD_k1Pf90U7"
      },
      "source": [
        "# os.environ['PYSPARK_SUBMIT_ARGS']= spark.sparkContext.addPyFile('../')"
      ],
      "execution_count": 197,
      "outputs": []
    },
    {
      "cell_type": "code",
      "metadata": {
        "colab": {
          "base_uri": "https://localhost:8080/",
          "height": 216
        },
        "id": "2yy70g4n1WYE",
        "outputId": "1a85a2d6-160e-43a8-8afd-4a40c0269603"
      },
      "source": [
        "spark"
      ],
      "execution_count": 198,
      "outputs": [
        {
          "output_type": "execute_result",
          "data": {
            "text/html": [
              "\n",
              "            <div>\n",
              "                <p><b>SparkSession - in-memory</b></p>\n",
              "                \n",
              "        <div>\n",
              "            <p><b>SparkContext</b></p>\n",
              "\n",
              "            <p><a href=\"http://ca1c0777c9ae:4050\">Spark UI</a></p>\n",
              "\n",
              "            <dl>\n",
              "              <dt>Version</dt>\n",
              "                <dd><code>v3.1.1</code></dd>\n",
              "              <dt>Master</dt>\n",
              "                <dd><code>local</code></dd>\n",
              "              <dt>AppName</dt>\n",
              "                <dd><code>New York Taxi Trip Information</code></dd>\n",
              "            </dl>\n",
              "        </div>\n",
              "        \n",
              "            </div>\n",
              "        "
            ],
            "text/plain": [
              "<pyspark.sql.session.SparkSession at 0x7f52eab69ed0>"
            ]
          },
          "metadata": {
            "tags": []
          },
          "execution_count": 198
        }
      ]
    },
    {
      "cell_type": "markdown",
      "metadata": {
        "id": "B3OriglZ1bcP"
      },
      "source": [
        "Sql query to display thw total trips"
      ]
    },
    {
      "cell_type": "code",
      "metadata": {
        "colab": {
          "base_uri": "https://localhost:8080/"
        },
        "id": "Aq4jWuLBplfa",
        "outputId": "b0a8602b-9da8-464a-b069-af3f12b0f28f"
      },
      "source": [
        "data_conv13.createOrReplaceTempView(\"data_conv13\")\n",
        "spark.sql(\"SELECT COUNT(id) AS total_trip from data_conv13\").show()\n"
      ],
      "execution_count": 209,
      "outputs": [
        {
          "output_type": "stream",
          "text": [
            "+----------+\n",
            "|total_trip|\n",
            "+----------+\n",
            "|   1458644|\n",
            "+----------+\n",
            "\n"
          ],
          "name": "stdout"
        }
      ]
    },
    {
      "cell_type": "markdown",
      "metadata": {
        "id": "ag_i9lBe1kVu"
      },
      "source": [
        "To show the number of trips made according to the day of the week"
      ]
    },
    {
      "cell_type": "code",
      "metadata": {
        "colab": {
          "base_uri": "https://localhost:8080/"
        },
        "id": "xJGBuNhgfQE8",
        "outputId": "7843ea0e-f1e7-4b7d-8cc2-b5142e62e868"
      },
      "source": [
        "spark.sql(\"SELECT pickup_day, COUNT(id) AS total_trips FROM data_conv13 GROUP BY pickup_day ORDER BY total_trips DESC\").show()\n"
      ],
      "execution_count": 208,
      "outputs": [
        {
          "output_type": "stream",
          "text": [
            "+----------+-----------+\n",
            "|pickup_day|total_trips|\n",
            "+----------+-----------+\n",
            "|    Friday|     223533|\n",
            "|  Saturday|     220868|\n",
            "|  Thursday|     218574|\n",
            "| Wednesday|     210136|\n",
            "|   Tuesday|     202749|\n",
            "|    Sunday|     195366|\n",
            "|    Monday|     187418|\n",
            "+----------+-----------+\n",
            "\n"
          ],
          "name": "stdout"
        }
      ]
    },
    {
      "cell_type": "markdown",
      "metadata": {
        "id": "Cb2NQAbj1uYN"
      },
      "source": [
        "number of trips made according to the day of the week"
      ]
    },
    {
      "cell_type": "code",
      "metadata": {
        "colab": {
          "base_uri": "https://localhost:8080/"
        },
        "id": "NQzIyetWiIn8",
        "outputId": "d5edd835-577d-431f-c3d8-e4a36d5df152"
      },
      "source": [
        "spark.sql(\"SELECT pickup_day, COUNT(vendor_id) AS total_trips FROM data_conv13 GROUP BY pickup_day ORDER BY total_trips DESC\").show()"
      ],
      "execution_count": 210,
      "outputs": [
        {
          "output_type": "stream",
          "text": [
            "+----------+-----------+\n",
            "|pickup_day|total_trips|\n",
            "+----------+-----------+\n",
            "|    Friday|     223533|\n",
            "|  Saturday|     220868|\n",
            "|  Thursday|     218574|\n",
            "| Wednesday|     210136|\n",
            "|   Tuesday|     202749|\n",
            "|    Sunday|     195366|\n",
            "|    Monday|     187418|\n",
            "+----------+-----------+\n",
            "\n"
          ],
          "name": "stdout"
        }
      ]
    },
    {
      "cell_type": "markdown",
      "metadata": {
        "id": "vhEo7q8F1v82"
      },
      "source": [
        "To show the number of trips made according to the time of day"
      ]
    },
    {
      "cell_type": "code",
      "metadata": {
        "colab": {
          "base_uri": "https://localhost:8080/"
        },
        "id": "l0IS3ET8lirp",
        "outputId": "e27494f4-efac-47f2-b7e7-b969aabcc73a"
      },
      "source": [
        "spark.sql(\"SELECT pickup_timeofday, COUNT(vendor_id) AS total_trips_time_of_day FROM data_conv13 GROUP BY pickup_timeofday ORDER BY total_trips_time_of_day DESC\").show()"
      ],
      "execution_count": 211,
      "outputs": [
        {
          "output_type": "stream",
          "text": [
            "+----------------+-----------------------+\n",
            "|pickup_timeofday|total_trips_time_of_day|\n",
            "+----------------+-----------------------+\n",
            "|           Night|                 670922|\n",
            "|         Evening|                 286899|\n",
            "|       Afternoon|                 277259|\n",
            "|         Morning|                 223564|\n",
            "+----------------+-----------------------+\n",
            "\n"
          ],
          "name": "stdout"
        }
      ]
    },
    {
      "cell_type": "markdown",
      "metadata": {
        "id": "wxgp5fyy1_CU"
      },
      "source": [
        "To show the number of trips made according to the time of day"
      ]
    },
    {
      "cell_type": "code",
      "metadata": {
        "colab": {
          "base_uri": "https://localhost:8080/"
        },
        "id": "0mKh_Lb8tC16",
        "outputId": "e6ac5303-0689-485c-a10b-febd6054afdc"
      },
      "source": [
        "spark.sql(\"SELECT pickup_timeofday, COUNT(id) AS total_trips_time_of_day FROM data_conv13 GROUP BY pickup_timeofday ORDER BY total_trips_time_of_day DESC\").show()"
      ],
      "execution_count": 212,
      "outputs": [
        {
          "output_type": "stream",
          "text": [
            "+----------------+-----------------------+\n",
            "|pickup_timeofday|total_trips_time_of_day|\n",
            "+----------------+-----------------------+\n",
            "|           Night|                 670922|\n",
            "|         Evening|                 286899|\n",
            "|       Afternoon|                 277259|\n",
            "|         Morning|                 223564|\n",
            "+----------------+-----------------------+\n",
            "\n"
          ],
          "name": "stdout"
        }
      ]
    },
    {
      "cell_type": "markdown",
      "metadata": {
        "id": "U6HV2Jhx2Aeh"
      },
      "source": [
        "To show the number of km traveled per day of the week"
      ]
    },
    {
      "cell_type": "code",
      "metadata": {
        "colab": {
          "base_uri": "https://localhost:8080/"
        },
        "id": "DmXguZpKmWKy",
        "outputId": "008c76a6-55ab-4c34-ee2f-7eb65f5787ca"
      },
      "source": [
        "spark.sql(\"SELECT pickup_day, SUM(distance) AS km_traveled_per_day FROM data_conv13 GROUP BY pickup_day ORDER BY km_traveled_per_day DESC\").show()"
      ],
      "execution_count": 213,
      "outputs": [
        {
          "output_type": "stream",
          "text": [
            "+----------+-------------------+\n",
            "|pickup_day|km_traveled_per_day|\n",
            "+----------+-------------------+\n",
            "|    Friday|  758725.5431796226|\n",
            "|  Thursday|   747678.685340323|\n",
            "|  Saturday|  736412.1719889197|\n",
            "|    Sunday|  726454.2760555025|\n",
            "| Wednesday|  702919.7880676301|\n",
            "|   Tuesday|  678329.0532968312|\n",
            "|    Monday|  668483.0576452918|\n",
            "+----------+-------------------+\n",
            "\n"
          ],
          "name": "stdout"
        }
      ]
    },
    {
      "cell_type": "markdown",
      "metadata": {
        "id": "TAVCWmm92GDt"
      },
      "source": [
        "Save to file"
      ]
    },
    {
      "cell_type": "code",
      "metadata": {
        "id": "zqEWTxrOtwaO"
      },
      "source": [
        "data_conv13.write.csv(\"/content/drive/MyDrive/New-York-Data/processed_final_data.csv\", header=True)"
      ],
      "execution_count": 205,
      "outputs": []
    },
    {
      "cell_type": "markdown",
      "metadata": {
        "id": "vx1_TSy_2Lyq"
      },
      "source": [
        "To display the number of partitions"
      ]
    },
    {
      "cell_type": "code",
      "metadata": {
        "colab": {
          "base_uri": "https://localhost:8080/"
        },
        "id": "ORr5Hn72vIDg",
        "outputId": "47015b7f-8c48-4d7f-ad19-211b70a04287"
      },
      "source": [
        "data_conv13.rdd.getNumPartitions()"
      ],
      "execution_count": 206,
      "outputs": [
        {
          "output_type": "execute_result",
          "data": {
            "text/plain": [
              "2"
            ]
          },
          "metadata": {
            "tags": []
          },
          "execution_count": 206
        }
      ]
    }
  ]
}